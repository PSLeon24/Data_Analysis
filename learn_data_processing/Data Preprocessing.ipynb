{
 "cells": [
  {
   "cell_type": "markdown",
   "id": "497caee9",
   "metadata": {},
   "source": [
    "# 데이터 전처리 - 원하는 형태로 데이터 가공하기\n",
    "|함수|기능|\n",
    "|---|---|\n",
    "|query|행 추출|\n",
    "|df[]|열(변수) 추출|\n",
    "|sort_values()|정렬|\n",
    "|groupby()|집단별로 나누기|\n",
    "|assign()|변수 추가|\n",
    "|agg()|통계치 구하기|\n",
    "|merge()|데이터 합치기(열)|\n",
    "|concat()|데이터 합치기(행)|"
   ]
  }
 ],
 "metadata": {
  "kernelspec": {
   "display_name": "Python 3 (ipykernel)",
   "language": "python",
   "name": "python3"
  },
  "language_info": {
   "codemirror_mode": {
    "name": "ipython",
    "version": 3
   },
   "file_extension": ".py",
   "mimetype": "text/x-python",
   "name": "python",
   "nbconvert_exporter": "python",
   "pygments_lexer": "ipython3",
   "version": "3.10.9"
  }
 },
 "nbformat": 4,
 "nbformat_minor": 5
}
