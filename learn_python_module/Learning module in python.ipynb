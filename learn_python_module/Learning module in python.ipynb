{
 "cells": [
  {
   "cell_type": "markdown",
   "id": "0964e7d9",
   "metadata": {},
   "source": [
    "# 모듈(module)\n",
    "- 패키지의 일부이면서 비슷한 함수끼리 묶어 놓은 것\n",
    "- 관계: 함수 ⊂ 모듈 ⊂ 패키지"
   ]
  },
  {
   "cell_type": "markdown",
   "id": "cdd3e1e0",
   "metadata": {},
   "source": [
    "## import 패키지.모듈"
   ]
  },
  {
   "cell_type": "code",
   "execution_count": 2,
   "id": "5cc23773",
   "metadata": {},
   "outputs": [],
   "source": [
    "import sklearn.metrics"
   ]
  },
  {
   "cell_type": "markdown",
   "id": "9cf4d84f",
   "metadata": {},
   "source": [
    "사용하고 싶을 때는 패키지명.모듈명.함수명()\n",
    "\n",
    "ex: <b>sklearn.metrics.accuracy_score()</b>"
   ]
  },
  {
   "cell_type": "markdown",
   "id": "ee856801",
   "metadata": {},
   "source": [
    "## from 패키지명 import 모듈명\n",
    "\n",
    "위의 예시에서 sklearn.metrics.accuracy_score()와 같이 패키지명.모듈명.함수명의 순서로 쓰는 것은 너무 길다.\n",
    "\n",
    "그렇기 때문에 <b>모듈명.함수명()</b>만 사용하는 것이 유용한데 이를 위해서는 <b>from 패키지명 import 모듈명</b>으로 모듈을 로드하면 된다."
   ]
  },
  {
   "cell_type": "code",
   "execution_count": 3,
   "id": "adddcebe",
   "metadata": {},
   "outputs": [],
   "source": [
    "from sklearn import metrics"
   ]
  },
  {
   "cell_type": "markdown",
   "id": "f5d48162",
   "metadata": {},
   "source": [
    "ex: <b>metrics.accuracy_score()</b>"
   ]
  },
  {
   "cell_type": "markdown",
   "id": "84e9a720",
   "metadata": {},
   "source": [
    "## from 패키지명.모듈명 import 함수명\n",
    "모듈명을 입력하는 것도 번거롭다면 <b>from 패키지명.모듈명 import 함수명</b>으로 함수를 직접 로드하면 <b>함수명()</b>만 입력하면 된다."
   ]
  },
  {
   "cell_type": "code",
   "execution_count": 4,
   "id": "c9e8a517",
   "metadata": {},
   "outputs": [],
   "source": [
    "from sklearn.metrics import accuracy_score"
   ]
  },
  {
   "cell_type": "markdown",
   "id": "e7657614",
   "metadata": {},
   "source": [
    "ex: <b>accuracy_score()</b>"
   ]
  },
  {
   "cell_type": "code",
   "execution_count": null,
   "id": "a36fc559",
   "metadata": {},
   "outputs": [],
   "source": []
  }
 ],
 "metadata": {
  "kernelspec": {
   "display_name": "Python 3 (ipykernel)",
   "language": "python",
   "name": "python3"
  },
  "language_info": {
   "codemirror_mode": {
    "name": "ipython",
    "version": 3
   },
   "file_extension": ".py",
   "mimetype": "text/x-python",
   "name": "python",
   "nbconvert_exporter": "python",
   "pygments_lexer": "ipython3",
   "version": "3.9.6"
  }
 },
 "nbformat": 4,
 "nbformat_minor": 5
}
